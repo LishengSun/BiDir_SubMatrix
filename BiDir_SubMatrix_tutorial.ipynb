{
 "cells": [
  {
   "cell_type": "markdown",
   "metadata": {},
   "source": [
    "## 1. Load Dataset\n",
    "\n",
    "### Note: Because of the size limit of github repo, we only upload Round_0/dorothea.zip. Please download other datasets from AutoML challenge website (https://competitions.codalab.org/competitions/2321#participate) and put them to os.path.join(source_dir, 'entire_data/Round_?/dataset_name'), so the following code can be run.                 \n",
    "\n",
    "### For example, for the dataset 'Round_0/digits' we show below, you need to download it and put it to os.path.join(source_dir, 'entire_data/Round_0/digits').\n",
    "\n",
    "\n"
   ]
  },
  {
   "cell_type": "code",
   "execution_count": 8,
   "metadata": {},
   "outputs": [],
   "source": [
    "import sys, os\n",
    "source_dir = '/Users/lishengsun/Dropbox/Meta-RL/BiDir_SubMatrix/AutoML1_data/'\n",
    "sys.path.insert(0, source_dir)\n",
    "data_root_dir = os.path.join(source_dir, 'entire_data')\n",
    "from lib3.data_manager import DataManager #lib3 for python3\n",
    "from lib3 import data_io"
   ]
  },
  {
   "cell_type": "code",
   "execution_count": 31,
   "metadata": {},
   "outputs": [
    {
     "name": "stdout",
     "output_type": "stream",
     "text": [
      "Info file found : /Users/lishengsun/Dropbox/Meta-RL/BiDir_SubMatrix/AutoML1_data/entire_data/Round_0/digits/digits_public.info\n",
      "\tConverting to numeric vector\n",
      "[8. 5. 9. ... 7. 2. 5.]\n"
     ]
    }
   ],
   "source": [
    "# load 'digits' from Round_0\n",
    "data = DataManager(input_dir=os.path.join(data_root_dir, 'Round_0'), basename='digits')\n",
    "X, y = data.data['X_train'], data.data['Y_train']"
   ]
  },
  {
   "cell_type": "code",
   "execution_count": 32,
   "metadata": {},
   "outputs": [
    {
     "name": "stdout",
     "output_type": "stream",
     "text": [
      "multiclass.classification\n",
      "[8. 5. 9. 2. 4.]\n"
     ]
    }
   ],
   "source": [
    "# original task and the first 5 examples of y in original format\n",
    "print (data.info['task'])\n",
    "print (y[:5])"
   ]
  },
  {
   "cell_type": "markdown",
   "metadata": {},
   "source": [
    "## 2. Transform classification task to regression task"
   ]
  },
  {
   "cell_type": "code",
   "execution_count": 33,
   "metadata": {},
   "outputs": [],
   "source": [
    "from bidir_submatrix import helpers\n",
    "if data.info['task'] != 'regression':\n",
    "    if data.info['task'] == 'binary.classification':\n",
    "        X, y = helpers.binary_to_regression(X, y)\n",
    "    elif data.info['task'] == 'multiclass.classification':\n",
    "        X, y = helpers.multiClass_to_regression(X, y, data.info['label_num'])\n",
    "    elif data.info['task'] == 'multilabel.classification':\n",
    "        X, y = helpers.multiLabel_to_regression(X, y, data.info['label_num'])"
   ]
  },
  {
   "cell_type": "code",
   "execution_count": 34,
   "metadata": {},
   "outputs": [
    {
     "name": "stdout",
     "output_type": "stream",
     "text": [
      "[[0 0 0 0 0 0 0 0 1 0]\n",
      " [0 0 0 0 0 1 0 0 0 0]\n",
      " [0 0 0 0 0 0 0 0 0 1]\n",
      " [0 0 1 0 0 0 0 0 0 0]\n",
      " [0 0 0 0 1 0 0 0 0 0]]\n"
     ]
    }
   ],
   "source": [
    "# y after being transformed to multi-output regression \n",
    "print (y[:5])"
   ]
  },
  {
   "cell_type": "markdown",
   "metadata": {},
   "source": [
    "## 3. Fit RandomForestRegressor to get oob scores for samples"
   ]
  },
  {
   "cell_type": "markdown",
   "metadata": {},
   "source": [
    "The scikit-learn RandomForestRegressor has been extended to be able to compute the oob scores for each sample (object 'forest_with_oob_score_for_samples') in the train set. This is done by: (1) for each tree, predict the unsampled samples and compute the mean square error for these predictions, thus, each sample can be scored about n/3 times as there are n trees in the RandomForestRegressor, in our case n=100; (2) the final oob score for each sample is the average over those ~n/3 scores.                \n",
    "Since a C-class / label classification is transformed to a C-output regression (C is the number of classes), C oob scores for each sample are computed, as a sample can be more or less difficult for different labels"
   ]
  },
  {
   "cell_type": "code",
   "execution_count": 35,
   "metadata": {},
   "outputs": [
    {
     "data": {
      "text/plain": [
       "RandomForestRegressor(bootstrap=True, criterion='mse', max_depth=None,\n",
       "           max_features='auto', max_leaf_nodes=None,\n",
       "           min_impurity_decrease=0.0, min_impurity_split=None,\n",
       "           min_samples_leaf=1, min_samples_split=2,\n",
       "           min_weight_fraction_leaf=0.0, n_estimators=100, n_jobs=1,\n",
       "           oob_score=True, oob_scores_samples=True, random_state=None,\n",
       "           verbose=0, warm_start=False)"
      ]
     },
     "execution_count": 35,
     "metadata": {},
     "output_type": "execute_result"
    }
   ],
   "source": [
    "#WARNING: Fitting may take long time if it is a many-output regression \n",
    "from bidir_submatrix import forest_with_oob_score_for_samples as Forest_oob\n",
    "rfr = Forest_oob.RandomForestRegressor(n_estimators=100, oob_score=True,\n",
    "\t\t\toob_scores_samples=True)\n",
    "rfr.fit(X, y)"
   ]
  },
  {
   "cell_type": "code",
   "execution_count": 36,
   "metadata": {},
   "outputs": [],
   "source": [
    "# Recuperate the oob scores for samples, as well as feature importances\n",
    "oob_scores_samples = rfr.oob_scores_samples_\n",
    "feature_importances = rfr.feature_importances_"
   ]
  },
  {
   "cell_type": "code",
   "execution_count": 38,
   "metadata": {},
   "outputs": [
    {
     "name": "stdout",
     "output_type": "stream",
     "text": [
      "(15000, 10)\n",
      "(1568,)\n"
     ]
    }
   ],
   "source": [
    "print (oob_scores_samples.shape) # (15000, 10) for 15000 samples and 10 labels.\n",
    "print (feature_importances.shape)"
   ]
  },
  {
   "cell_type": "markdown",
   "metadata": {},
   "source": [
    "## 4. Plot the results"
   ]
  },
  {
   "cell_type": "code",
   "execution_count": 40,
   "metadata": {},
   "outputs": [
    {
     "data": {
      "image/png": "[encoded data removed]",
      "text/plain": [
       "<Figure size 432x288 with 1 Axes>"
      ]
     },
     "metadata": {
      "needs_background": "light"
     },
     "output_type": "display_data"
    }
   ],
   "source": [
    "import matplotlib.pyplot as plt\n",
    "if len(oob_scores_samples.shape) == 1: # binary\n",
    "\tplt.plot(sorted(oob_scores_samples.tolist(), reverse=True), '.', label='label_1')\n",
    "\n",
    "else: # multi**\n",
    "\tfor cls_i in range(oob_scores_samples.shape[1]):\n",
    "\t\toob_scores_samples_cls_i = oob_scores_samples[:, cls_i]\n",
    "\t\tplt.plot(sorted(oob_scores_samples_cls_i.tolist(), reverse=True), '.', label='label_%i'%cls_i)\n",
    "\n",
    "plt.ylabel('oob score of samples in descending order')\n",
    "plt.xlabel('sample')\n",
    "plt.legend()\n",
    "plt.title('digits')\n",
    "plt.show()"
   ]
  },
  {
   "cell_type": "code",
   "execution_count": 43,
   "metadata": {},
   "outputs": [
    {
     "data": {
      "image/png": "[encoded data removed]",
      "text/plain": [
       "<Figure size 432x288 with 1 Axes>"
      ]
     },
     "metadata": {
      "needs_background": "light"
     },
     "output_type": "display_data"
    }
   ],
   "source": [
    "plt.plot(sorted(feature_importances.tolist(), reverse=True))\n",
    "plt.ylabel('feature importances in descending order')\n",
    "plt.xlabel('feature')\n",
    "# plt.legend()\n",
    "plt.title('digits')\n",
    "plt.show()"
   ]
  },
  {
   "cell_type": "code",
   "execution_count": null,
   "metadata": {},
   "outputs": [],
   "source": []
  }
 ],
 "metadata": {
  "kernelspec": {
   "display_name": "Python 3",
   "language": "python",
   "name": "python3"
  },
  "language_info": {
   "codemirror_mode": {
    "name": "ipython",
    "version": 3
   },
   "file_extension": ".py",
   "mimetype": "text/x-python",
   "name": "python",
   "nbconvert_exporter": "python",
   "pygments_lexer": "ipython3",
   "version": "3.6.1"
  }
 },
 "nbformat": 4,
 "nbformat_minor": 2
}
